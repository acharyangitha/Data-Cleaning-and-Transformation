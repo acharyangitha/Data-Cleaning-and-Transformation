{
 "cells": [
  {
   "cell_type": "code",
   "execution_count": 2,
   "id": "02e0858b",
   "metadata": {},
   "outputs": [
    {
     "data": {
      "text/plain": [
       "'D:\\\\Angitha Achary\\\\python pandas\\\\Untitled Folder\\\\Survey Monkey Dataset/Data - Survey Monkey Cleaned version.xlsx'"
      ]
     },
     "execution_count": 2,
     "metadata": {},
     "output_type": "execute_result"
    }
   ],
   "source": [
    "import os\n",
    "import pandas as pd\n",
    "\n",
    "pwd = os.getcwd()\n",
    "file = pwd + \"/Data - Survey Monkey Cleaned version.xlsx\"\n",
    "sur_monk_df = pd.read_excel(file)\n",
    "surv_monk_df.head"
   ]
  }
 ],
 "metadata": {
  "kernelspec": {
   "display_name": "Python 3 (ipykernel)",
   "language": "python",
   "name": "python3"
  },
  "language_info": {
   "codemirror_mode": {
    "name": "ipython",
    "version": 3
   },
   "file_extension": ".py",
   "mimetype": "text/x-python",
   "name": "python",
   "nbconvert_exporter": "python",
   "pygments_lexer": "ipython3",
   "version": "3.10.7"
  }
 },
 "nbformat": 4,
 "nbformat_minor": 5
}
